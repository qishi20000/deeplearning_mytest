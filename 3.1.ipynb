{
 "cells": [
  {
   "cell_type": "markdown",
   "id": "e13c2e41",
   "metadata": {},
   "source": [
    "## 3.1 自动求导"
   ]
  },
  {
   "cell_type": "code",
   "execution_count": null,
   "id": "754bc123",
   "metadata": {},
   "outputs": [],
   "source": []
  }
 ],
 "metadata": {
  "kernelspec": {
   "display_name": "Python 3",
   "language": "python",
   "name": "python3"
  },
  "language_info": {
   "codemirror_mode": {
    "name": "ipython",
    "version": 3
   },
   "file_extension": ".py",
   "mimetype": "text/x-python",
   "name": "python",
   "nbconvert_exporter": "python",
   "pygments_lexer": "ipython3",
   "version": "3.9.0"
  }
 },
 "nbformat": 4,
 "nbformat_minor": 5
}
